{
 "cells": [
  {
   "cell_type": "code",
   "execution_count": 47,
   "metadata": {
    "collapsed": true
   },
   "outputs": [],
   "source": [
    "import tensorflow as tf\n",
    "import pandas as pd\n",
    "import numpy as np\n",
    "import matplotlib.pyplot as plt"
   ]
  },
  {
   "cell_type": "code",
   "execution_count": 48,
   "outputs": [
    {
     "data": {
      "text/plain": "array([[       1971,        2300],\n       [       1972,        3500],\n       [       1973,        2500],\n       [       1973,        2500],\n       [       1974,        4100],\n       [       1974,        4500],\n       [       1974,        8000],\n       [       1975,        3510],\n       [       1976,        5000],\n       [       1976,        8500],\n       [       1976,        6500],\n       [       1978,        9000],\n       [       1978,       29000],\n       [       1979,       17500],\n       [       1979,       29000],\n       [       1979,       68000],\n       [       1981,       11500],\n       [       1982,       55000],\n       [       1982,      134000],\n       [       1983,       22000],\n       [       1984,       63000],\n       [       1984,      190000],\n       [       1985,      275000],\n       [       1985,       25000],\n       [       1985,       16000],\n       [       1986,      110000],\n       [       1986,      375000],\n       [       1986,       30000],\n       [       1987,      385000],\n       [       1987,      730000],\n       [       1987,      273000],\n       [       1987,      553000],\n       [       1988,      180000],\n       [       1988,      250000],\n       [       1989,      600000],\n       [       1989,     1000000],\n       [       1989,     1180235],\n       [       1989,      310000],\n       [       1990,     1200000],\n       [       1991,     1350000],\n       [       1991,       35000],\n       [       1992,      600000],\n       [       1992,      900000],\n       [       1993,     2800000],\n       [       1993,     3100000],\n       [       1994,      578977],\n       [       1994,     2500000],\n       [       1995,     2500000],\n       [       1999,      111000],\n       [       1995,     5500000],\n       [       1996,     4300000],\n       [       1997,    10000000],\n       [       1997,     7500000],\n       [       1997,     8800000],\n       [       1998,     7500000],\n       [       1999,     9500000],\n       [       1999,    13500000],\n       [       2000,    21000000],\n       [       2000,    21000000],\n       [       1999,    27400000],\n       [       1999,    21300000],\n       [       1999,    22000000],\n       [       2000,    42000000],\n       [       2001,   191000000],\n       [       2001,    45000000],\n       [       2002,    55000000],\n       [       2004,   112000000],\n       [       2004,   400000000],\n       [       2005,   169000000],\n       [       2006,   184000000],\n       [       2005,   228000000],\n       [       2006,   362000000],\n       [       2007,   540000000],\n       [       2008,    47000000],\n       [       2003,    54300000],\n       [       2003,   105900000],\n       [       2002,   220000000],\n       [       2005,   165000000],\n       [       2005,   250000000],\n       [       2006,   291000000],\n       [       2007,   169000000],\n       [       2003,   410000000],\n       [       2008,   600000000],\n       [       2009,   760000000],\n       [       2011,  1870000000],\n       [       2012,   432000000],\n       [       2007,   463000000],\n       [       2007,    26000000],\n       [       2008,   230000000],\n       [       2004,   592000000],\n       [       2007,   411000000],\n       [       2008,   731000000],\n       [       2008,   758000000],\n       [       2007,   789000000],\n       [       2009,   904000000],\n       [       2010,  1000000000],\n       [       2012,  2990000000],\n       [       2013,  1000000000],\n       [       2011,  1160000000],\n       [       2010,  1170000000],\n       [       2010,  1200000000],\n       [       2012,  1200000000],\n       [       2012,  1303000000],\n       [       2010,  1400000000],\n       [       2012,  1400000000],\n       [       2014,  1400000000],\n       [       2006,  1700000000],\n       [       2015,  1750000000],\n       [       2013,  1860000000],\n       [       2015,  1900000000],\n       [       2008,  1900000000],\n       [       2010,  2000000000],\n       [       2014,  2000000000],\n       [       2015,  2000000000],\n       [       2015,  3000000000],\n       [       2012,  2100000000],\n       [       2011,  2270000000],\n       [       2010,  2300000000],\n       [       2014,  2600000000],\n       [       2011,  2600000000],\n       [       2012,  2750000000],\n       [       2014,  3000000000],\n       [       2016,  3000000000],\n       [       2017,  5300000000],\n       [       2017,  5300000000],\n       [       2018,  8500000000],\n       [       2012,  3100000000],\n       [       2016,  3200000000],\n       [       2016,  3300000000],\n       [       2015,  3990000000],\n       [       2013,  4200000000],\n       [       2017,  4300000000],\n       [       2014,  4310000000],\n       [       2017,  4800000000],\n       [       2017,  4800000000],\n       [       2017,  4800000000],\n       [       2012,  5000000000],\n       [       2013,  5000000000],\n       [       2014,  5560000000],\n       [       2017,  6100000000],\n       [       2018,  6900000000],\n       [       2016,  4000000000],\n       [       2018,  6900000000],\n       [       2017,  5500000000],\n       [       2018,  5500000000],\n       [       2017,  7000000000],\n       [       2015,  7100000000],\n       [       2017,  8000000000],\n       [       2016,  7200000000],\n       [       2017,  8000000000],\n       [       2016,  8000000000],\n       [       2017,  9700000000],\n       [       2017,   250000000],\n       [       2015, 10000000000],\n       [       2017,  5450000000],\n       [       2018, 10000000000],\n       [       2017,  4300000000],\n       [       2017, 18000000000],\n       [       2017, 19200000000],\n       [       2018,  8876000000],\n       [       2018, 23600000000],\n       [       2018,  9000000000]], dtype=int64)"
     },
     "execution_count": 48,
     "metadata": {},
     "output_type": "execute_result"
    }
   ],
   "source": [
    "data = pd.read_csv(\"../data/moore.csv\", header=None).values\n",
    "data"
   ],
   "metadata": {
    "collapsed": false,
    "pycharm": {
     "name": "#%%\n"
    }
   }
  },
  {
   "cell_type": "code",
   "execution_count": 49,
   "outputs": [
    {
     "data": {
      "text/plain": "array([[1971],\n       [1972],\n       [1973],\n       [1973],\n       [1974],\n       [1974],\n       [1974],\n       [1975],\n       [1976],\n       [1976],\n       [1976],\n       [1978],\n       [1978],\n       [1979],\n       [1979],\n       [1979],\n       [1981],\n       [1982],\n       [1982],\n       [1983],\n       [1984],\n       [1984],\n       [1985],\n       [1985],\n       [1985],\n       [1986],\n       [1986],\n       [1986],\n       [1987],\n       [1987],\n       [1987],\n       [1987],\n       [1988],\n       [1988],\n       [1989],\n       [1989],\n       [1989],\n       [1989],\n       [1990],\n       [1991],\n       [1991],\n       [1992],\n       [1992],\n       [1993],\n       [1993],\n       [1994],\n       [1994],\n       [1995],\n       [1999],\n       [1995],\n       [1996],\n       [1997],\n       [1997],\n       [1997],\n       [1998],\n       [1999],\n       [1999],\n       [2000],\n       [2000],\n       [1999],\n       [1999],\n       [1999],\n       [2000],\n       [2001],\n       [2001],\n       [2002],\n       [2004],\n       [2004],\n       [2005],\n       [2006],\n       [2005],\n       [2006],\n       [2007],\n       [2008],\n       [2003],\n       [2003],\n       [2002],\n       [2005],\n       [2005],\n       [2006],\n       [2007],\n       [2003],\n       [2008],\n       [2009],\n       [2011],\n       [2012],\n       [2007],\n       [2007],\n       [2008],\n       [2004],\n       [2007],\n       [2008],\n       [2008],\n       [2007],\n       [2009],\n       [2010],\n       [2012],\n       [2013],\n       [2011],\n       [2010],\n       [2010],\n       [2012],\n       [2012],\n       [2010],\n       [2012],\n       [2014],\n       [2006],\n       [2015],\n       [2013],\n       [2015],\n       [2008],\n       [2010],\n       [2014],\n       [2015],\n       [2015],\n       [2012],\n       [2011],\n       [2010],\n       [2014],\n       [2011],\n       [2012],\n       [2014],\n       [2016],\n       [2017],\n       [2017],\n       [2018],\n       [2012],\n       [2016],\n       [2016],\n       [2015],\n       [2013],\n       [2017],\n       [2014],\n       [2017],\n       [2017],\n       [2017],\n       [2012],\n       [2013],\n       [2014],\n       [2017],\n       [2018],\n       [2016],\n       [2018],\n       [2017],\n       [2018],\n       [2017],\n       [2015],\n       [2017],\n       [2016],\n       [2017],\n       [2016],\n       [2017],\n       [2017],\n       [2015],\n       [2017],\n       [2018],\n       [2017],\n       [2017],\n       [2017],\n       [2018],\n       [2018],\n       [2018]], dtype=int64)"
     },
     "execution_count": 49,
     "metadata": {},
     "output_type": "execute_result"
    }
   ],
   "source": [
    "# reshape data to right format (data_count, feature_count)\n",
    "x = data[:, 0].reshape(-1, 1)\n",
    "x"
   ],
   "metadata": {
    "collapsed": false,
    "pycharm": {
     "name": "#%%\n"
    }
   }
  },
  {
   "cell_type": "code",
   "execution_count": 50,
   "outputs": [
    {
     "data": {
      "text/plain": "array([       2300,        3500,        2500,        2500,        4100,\n              4500,        8000,        3510,        5000,        8500,\n              6500,        9000,       29000,       17500,       29000,\n             68000,       11500,       55000,      134000,       22000,\n             63000,      190000,      275000,       25000,       16000,\n            110000,      375000,       30000,      385000,      730000,\n            273000,      553000,      180000,      250000,      600000,\n           1000000,     1180235,      310000,     1200000,     1350000,\n             35000,      600000,      900000,     2800000,     3100000,\n            578977,     2500000,     2500000,      111000,     5500000,\n           4300000,    10000000,     7500000,     8800000,     7500000,\n           9500000,    13500000,    21000000,    21000000,    27400000,\n          21300000,    22000000,    42000000,   191000000,    45000000,\n          55000000,   112000000,   400000000,   169000000,   184000000,\n         228000000,   362000000,   540000000,    47000000,    54300000,\n         105900000,   220000000,   165000000,   250000000,   291000000,\n         169000000,   410000000,   600000000,   760000000,  1870000000,\n         432000000,   463000000,    26000000,   230000000,   592000000,\n         411000000,   731000000,   758000000,   789000000,   904000000,\n        1000000000,  2990000000,  1000000000,  1160000000,  1170000000,\n        1200000000,  1200000000,  1303000000,  1400000000,  1400000000,\n        1400000000,  1700000000,  1750000000,  1860000000,  1900000000,\n        1900000000,  2000000000,  2000000000,  2000000000,  3000000000,\n        2100000000,  2270000000,  2300000000,  2600000000,  2600000000,\n        2750000000,  3000000000,  3000000000,  5300000000,  5300000000,\n        8500000000,  3100000000,  3200000000,  3300000000,  3990000000,\n        4200000000,  4300000000,  4310000000,  4800000000,  4800000000,\n        4800000000,  5000000000,  5000000000,  5560000000,  6100000000,\n        6900000000,  4000000000,  6900000000,  5500000000,  5500000000,\n        7000000000,  7100000000,  8000000000,  7200000000,  8000000000,\n        8000000000,  9700000000,   250000000, 10000000000,  5450000000,\n       10000000000,  4300000000, 18000000000, 19200000000,  8876000000,\n       23600000000,  9000000000], dtype=int64)"
     },
     "execution_count": 50,
     "metadata": {},
     "output_type": "execute_result"
    }
   ],
   "source": [
    "y = data[:, 1]\n",
    "y"
   ],
   "metadata": {
    "collapsed": false,
    "pycharm": {
     "name": "#%%\n"
    }
   }
  },
  {
   "cell_type": "code",
   "execution_count": 51,
   "outputs": [
    {
     "data": {
      "text/plain": "<matplotlib.collections.PathCollection at 0x2360fd65850>"
     },
     "execution_count": 51,
     "metadata": {},
     "output_type": "execute_result"
    },
    {
     "data": {
      "text/plain": "<Figure size 432x288 with 1 Axes>",
      "image/png": "[encoded data removed]"
     },
     "metadata": {
      "needs_background": "light"
     },
     "output_type": "display_data"
    }
   ],
   "source": [
    "plt.scatter(x, y)"
   ],
   "metadata": {
    "collapsed": false,
    "pycharm": {
     "name": "#%%\n"
    }
   }
  },
  {
   "cell_type": "code",
   "execution_count": 52,
   "outputs": [
    {
     "data": {
      "text/plain": "<matplotlib.collections.PathCollection at 0x234341004f0>"
     },
     "execution_count": 52,
     "metadata": {},
     "output_type": "execute_result"
    },
    {
     "data": {
      "text/plain": "<Figure size 432x288 with 1 Axes>",
      "image/png": "[encoded data removed]"
     },
     "metadata": {
      "needs_background": "light"
     },
     "output_type": "display_data"
    }
   ],
   "source": [
    "y = np.log(y)\n",
    "plt.scatter(x, y)"
   ],
   "metadata": {
    "collapsed": false,
    "pycharm": {
     "name": "#%%\n"
    }
   }
  },
  {
   "cell_type": "code",
   "execution_count": 53,
   "outputs": [],
   "source": [
    "# scale data\n",
    "x = x - x.mean()"
   ],
   "metadata": {
    "collapsed": false,
    "pycharm": {
     "name": "#%%\n"
    }
   }
  },
  {
   "cell_type": "code",
   "execution_count": 54,
   "outputs": [],
   "source": [
    "model = tf.keras.Sequential([\n",
    "    tf.keras.layers.Input(shape=(1,)),\n",
    "    tf.keras.layers.Dense(1)\n",
    "])\n",
    "model.compile(optimizer=tf.optimizers.SGD(0.001, 0.9), loss=\"mse\")"
   ],
   "metadata": {
    "collapsed": false,
    "pycharm": {
     "name": "#%%\n"
    }
   }
  },
  {
   "cell_type": "code",
   "execution_count": 55,
   "outputs": [],
   "source": [
    "def lr_schedule(epoch, lr):\n",
    "    if lr < 0.0001:\n",
    "        return lr\n",
    "    if (epoch+1) % 10 == 0:\n",
    "        return lr / 2.0\n",
    "    return lr\n",
    "\n",
    "scheduler = tf.keras.callbacks.LearningRateScheduler(lr_schedule)"
   ],
   "metadata": {
    "collapsed": false,
    "pycharm": {
     "name": "#%%\n"
    }
   }
  },
  {
   "cell_type": "code",
   "execution_count": 56,
   "outputs": [
    {
     "name": "stdout",
     "output_type": "stream",
     "text": [
      "Epoch 1/50\n",
      "6/6 [==============================] - 0s 1ms/step - loss: 350.8596\b\b\b\b\b\b\b\b\b\b\b\b\b\b\b\b\b\b\b\b\b\b\b\b\b\b\b\b\b\b\b\b\b\b\b\b\b\b\b\b\b\b\b\b\b\b\b\b\b\b\b\b\b\b\b\b\b\b\b\n",
      "Epoch 2/50\n",
      "6/6 [==============================] - 0s 1ms/step - loss: 338.8005\b\b\b\b\b\b\b\b\b\b\b\b\b\b\b\b\b\b\b\b\b\b\b\b\b\b\b\b\b\b\b\b\b\b\b\b\b\b\b\b\b\b\b\b\b\b\b\b\b\b\b\b\b\b\b\b\b\b\b\n",
      "Epoch 3/50\n",
      "6/6 [==============================] - 0s 1ms/step - loss: 303.7654\b\b\b\b\b\b\b\b\b\b\b\b\b\b\b\b\b\b\b\b\b\b\b\b\b\b\b\b\b\b\b\b\b\b\b\b\b\b\b\b\b\b\b\b\b\b\b\b\b\b\b\b\b\b\b\b\b\b\b\n",
      "Epoch 4/50\n",
      "6/6 [==============================] - 0s 1ms/step - loss: 265.0697\b\b\b\b\b\b\b\b\b\b\b\b\b\b\b\b\b\b\b\b\b\b\b\b\b\b\b\b\b\b\b\b\b\b\b\b\b\b\b\b\b\b\b\b\b\b\b\b\b\b\b\b\b\b\b\b\b\b\b\n",
      "Epoch 5/50\n",
      "6/6 [==============================] - 0s 1ms/step - loss: 175.7422\b\b\b\b\b\b\b\b\b\b\b\b\b\b\b\b\b\b\b\b\b\b\b\b\b\b\b\b\b\b\b\b\b\b\b\b\b\b\b\b\b\b\b\b\b\b\b\b\b\b\b\b\b\b\b\b\b\b\b\n",
      "Epoch 6/50\n",
      "6/6 [==============================] - 0s 1ms/step - loss: 129.7465\b\b\b\b\b\b\b\b\b\b\b\b\b\b\b\b\b\b\b\b\b\b\b\b\b\b\b\b\b\b\b\b\b\b\b\b\b\b\b\b\b\b\b\b\b\b\b\b\b\b\b\b\b\b\b\b\b\b\b\n",
      "Epoch 7/50\n",
      "6/6 [==============================] - 0s 1ms/step - loss: 86.2330\b\b\b\b\b\b\b\b\b\b\b\b\b\b\b\b\b\b\b\b\b\b\b\b\b\b\b\b\b\b\b\b\b\b\b\b\b\b\b\b\b\b\b\b\b\b\b\b\b\b\b\b\b\b\b\b\b\b\n",
      "Epoch 8/50\n",
      "6/6 [==============================] - 0s 1ms/step - loss: 71.4233\b\b\b\b\b\b\b\b\b\b\b\b\b\b\b\b\b\b\b\b\b\b\b\b\b\b\b\b\b\b\b\b\b\b\b\b\b\b\b\b\b\b\b\b\b\b\b\b\b\b\b\b\b\b\b\b\b\b\n",
      "Epoch 9/50\n",
      "6/6 [==============================] - 0s 1ms/step - loss: 47.8444\b\b\b\b\b\b\b\b\b\b\b\b\b\b\b\b\b\b\b\b\b\b\b\b\b\b\b\b\b\b\b\b\b\b\b\b\b\b\b\b\b\b\b\b\b\b\b\b\b\b\b\b\b\b\b\b\b\b\n",
      "Epoch 10/50\n",
      "6/6 [==============================] - 0s 1ms/step - loss: 35.0133\b\b\b\b\b\b\b\b\b\b\b\b\b\b\b\b\b\b\b\b\b\b\b\b\b\b\b\b\b\b\b\b\b\b\b\b\b\b\b\b\b\b\b\b\b\b\b\b\b\b\b\b\b\b\b\b\b\b\n",
      "Epoch 11/50\n",
      "6/6 [==============================] - 0s 1ms/step - loss: 37.0715\b\b\b\b\b\b\b\b\b\b\b\b\b\b\b\b\b\b\b\b\b\b\b\b\b\b\b\b\b\b\b\b\b\b\b\b\b\b\b\b\b\b\b\b\b\b\b\b\b\b\b\b\b\b\b\b\b\b\n",
      "Epoch 12/50\n",
      "6/6 [==============================] - 0s 1ms/step - loss: 47.6949\b\b\b\b\b\b\b\b\b\b\b\b\b\b\b\b\b\b\b\b\b\b\b\b\b\b\b\b\b\b\b\b\b\b\b\b\b\b\b\b\b\b\b\b\b\b\b\b\b\b\b\b\b\b\b\b\b\b\n",
      "Epoch 13/50\n",
      "6/6 [==============================] - 0s 1ms/step - loss: 25.8180\b\b\b\b\b\b\b\b\b\b\b\b\b\b\b\b\b\b\b\b\b\b\b\b\b\b\b\b\b\b\b\b\b\b\b\b\b\b\b\b\b\b\b\b\b\b\b\b\b\b\b\b\b\b\b\b\b\b\n",
      "Epoch 14/50\n",
      "6/6 [==============================] - 0s 1ms/step - loss: 19.3027\b\b\b\b\b\b\b\b\b\b\b\b\b\b\b\b\b\b\b\b\b\b\b\b\b\b\b\b\b\b\b\b\b\b\b\b\b\b\b\b\b\b\b\b\b\b\b\b\b\b\b\b\b\b\b\b\b\b\n",
      "Epoch 15/50\n",
      "6/6 [==============================] - 0s 1ms/step - loss: 15.7453\b\b\b\b\b\b\b\b\b\b\b\b\b\b\b\b\b\b\b\b\b\b\b\b\b\b\b\b\b\b\b\b\b\b\b\b\b\b\b\b\b\b\b\b\b\b\b\b\b\b\b\b\b\b\b\b\b\b\n",
      "Epoch 16/50\n",
      "6/6 [==============================] - 0s 1ms/step - loss: 12.0155\b\b\b\b\b\b\b\b\b\b\b\b\b\b\b\b\b\b\b\b\b\b\b\b\b\b\b\b\b\b\b\b\b\b\b\b\b\b\b\b\b\b\b\b\b\b\b\b\b\b\b\b\b\b\b\b\b\b\n",
      "Epoch 17/50\n",
      "6/6 [==============================] - 0s 1ms/step - loss: 10.0699\b\b\b\b\b\b\b\b\b\b\b\b\b\b\b\b\b\b\b\b\b\b\b\b\b\b\b\b\b\b\b\b\b\b\b\b\b\b\b\b\b\b\b\b\b\b\b\b\b\b\b\b\b\b\b\b\b\b\n",
      "Epoch 18/50\n",
      "6/6 [==============================] - 0s 1ms/step - loss: 11.2835\b\b\b\b\b\b\b\b\b\b\b\b\b\b\b\b\b\b\b\b\b\b\b\b\b\b\b\b\b\b\b\b\b\b\b\b\b\b\b\b\b\b\b\b\b\b\b\b\b\b\b\b\b\b\b\b\b\b\n",
      "Epoch 19/50\n",
      "6/6 [==============================] - 0s 2ms/step - loss: 8.1983\b\b\b\b\b\b\b\b\b\b\b\b\b\b\b\b\b\b\b\b\b\b\b\b\b\b\b\b\b\b\b\b\b\b\b\b\b\b\b\b\b\b\b\b\b\b\b\b\b\b\b\b\b\b\b\b\b\n",
      "Epoch 20/50\n",
      "6/6 [==============================] - 0s 1ms/step - loss: 7.3304\b\b\b\b\b\b\b\b\b\b\b\b\b\b\b\b\b\b\b\b\b\b\b\b\b\b\b\b\b\b\b\b\b\b\b\b\b\b\b\b\b\b\b\b\b\b\b\b\b\b\b\b\b\b\b\b\b\n",
      "Epoch 21/50\n",
      "6/6 [==============================] - 0s 2ms/step - loss: 6.6613\b\b\b\b\b\b\b\b\b\b\b\b\b\b\b\b\b\b\b\b\b\b\b\b\b\b\b\b\b\b\b\b\b\b\b\b\b\b\b\b\b\b\b\b\b\b\b\b\b\b\b\b\b\b\b\b\b\n",
      "Epoch 22/50\n",
      "6/6 [==============================] - 0s 2ms/step - loss: 6.3553\b\b\b\b\b\b\b\b\b\b\b\b\b\b\b\b\b\b\b\b\b\b\b\b\b\b\b\b\b\b\b\b\b\b\b\b\b\b\b\b\b\b\b\b\b\b\b\b\b\b\b\b\b\b\b\b\b\n",
      "Epoch 23/50\n",
      "6/6 [==============================] - 0s 2ms/step - loss: 5.4959\b\b\b\b\b\b\b\b\b\b\b\b\b\b\b\b\b\b\b\b\b\b\b\b\b\b\b\b\b\b\b\b\b\b\b\b\b\b\b\b\b\b\b\b\b\b\b\b\b\b\b\b\b\b\b\b\b\n",
      "Epoch 24/50\n",
      "6/6 [==============================] - 0s 1ms/step - loss: 5.5864\b\b\b\b\b\b\b\b\b\b\b\b\b\b\b\b\b\b\b\b\b\b\b\b\b\b\b\b\b\b\b\b\b\b\b\b\b\b\b\b\b\b\b\b\b\b\b\b\b\b\b\b\b\b\b\b\b\n",
      "Epoch 25/50\n",
      "6/6 [==============================] - 0s 1ms/step - loss: 4.9766\b\b\b\b\b\b\b\b\b\b\b\b\b\b\b\b\b\b\b\b\b\b\b\b\b\b\b\b\b\b\b\b\b\b\b\b\b\b\b\b\b\b\b\b\b\b\b\b\b\b\b\b\b\b\b\b\b\n",
      "Epoch 26/50\n",
      "6/6 [==============================] - 0s 1ms/step - loss: 4.6767\b\b\b\b\b\b\b\b\b\b\b\b\b\b\b\b\b\b\b\b\b\b\b\b\b\b\b\b\b\b\b\b\b\b\b\b\b\b\b\b\b\b\b\b\b\b\b\b\b\b\b\b\b\b\b\b\b\n",
      "Epoch 27/50\n",
      "6/6 [==============================] - 0s 1ms/step - loss: 4.5540\b\b\b\b\b\b\b\b\b\b\b\b\b\b\b\b\b\b\b\b\b\b\b\b\b\b\b\b\b\b\b\b\b\b\b\b\b\b\b\b\b\b\b\b\b\b\b\b\b\b\b\b\b\b\b\b\b\n",
      "Epoch 28/50\n",
      "6/6 [==============================] - 0s 1ms/step - loss: 4.4407\b\b\b\b\b\b\b\b\b\b\b\b\b\b\b\b\b\b\b\b\b\b\b\b\b\b\b\b\b\b\b\b\b\b\b\b\b\b\b\b\b\b\b\b\b\b\b\b\b\b\b\b\b\b\b\b\b\n",
      "Epoch 29/50\n",
      "6/6 [==============================] - 0s 1ms/step - loss: 3.9443\b\b\b\b\b\b\b\b\b\b\b\b\b\b\b\b\b\b\b\b\b\b\b\b\b\b\b\b\b\b\b\b\b\b\b\b\b\b\b\b\b\b\b\b\b\b\b\b\b\b\b\b\b\b\b\b\b\n",
      "Epoch 30/50\n",
      "6/6 [==============================] - 0s 1ms/step - loss: 3.7491\b\b\b\b\b\b\b\b\b\b\b\b\b\b\b\b\b\b\b\b\b\b\b\b\b\b\b\b\b\b\b\b\b\b\b\b\b\b\b\b\b\b\b\b\b\b\b\b\b\b\b\b\b\b\b\b\b\n",
      "Epoch 31/50\n",
      "6/6 [==============================] - 0s 1ms/step - loss: 3.6046\b\b\b\b\b\b\b\b\b\b\b\b\b\b\b\b\b\b\b\b\b\b\b\b\b\b\b\b\b\b\b\b\b\b\b\b\b\b\b\b\b\b\b\b\b\b\b\b\b\b\b\b\b\b\b\b\b\n",
      "Epoch 32/50\n",
      "6/6 [==============================] - 0s 1ms/step - loss: 3.5137\b\b\b\b\b\b\b\b\b\b\b\b\b\b\b\b\b\b\b\b\b\b\b\b\b\b\b\b\b\b\b\b\b\b\b\b\b\b\b\b\b\b\b\b\b\b\b\b\b\b\b\b\b\b\b\b\b\n",
      "Epoch 33/50\n",
      "6/6 [==============================] - 0s 1ms/step - loss: 3.4407\b\b\b\b\b\b\b\b\b\b\b\b\b\b\b\b\b\b\b\b\b\b\b\b\b\b\b\b\b\b\b\b\b\b\b\b\b\b\b\b\b\b\b\b\b\b\b\b\b\b\b\b\b\b\b\b\b\n",
      "Epoch 34/50\n",
      "6/6 [==============================] - 0s 1ms/step - loss: 3.3479\b\b\b\b\b\b\b\b\b\b\b\b\b\b\b\b\b\b\b\b\b\b\b\b\b\b\b\b\b\b\b\b\b\b\b\b\b\b\b\b\b\b\b\b\b\b\b\b\b\b\b\b\b\b\b\b\b\n",
      "Epoch 35/50\n",
      "6/6 [==============================] - 0s 1ms/step - loss: 3.2835\b\b\b\b\b\b\b\b\b\b\b\b\b\b\b\b\b\b\b\b\b\b\b\b\b\b\b\b\b\b\b\b\b\b\b\b\b\b\b\b\b\b\b\b\b\b\b\b\b\b\b\b\b\b\b\b\b\n",
      "Epoch 36/50\n",
      "6/6 [==============================] - 0s 1ms/step - loss: 3.1853\b\b\b\b\b\b\b\b\b\b\b\b\b\b\b\b\b\b\b\b\b\b\b\b\b\b\b\b\b\b\b\b\b\b\b\b\b\b\b\b\b\b\b\b\b\b\b\b\b\b\b\b\b\b\b\b\b\n",
      "Epoch 37/50\n",
      "6/6 [==============================] - 0s 1ms/step - loss: 3.1459\b\b\b\b\b\b\b\b\b\b\b\b\b\b\b\b\b\b\b\b\b\b\b\b\b\b\b\b\b\b\b\b\b\b\b\b\b\b\b\b\b\b\b\b\b\b\b\b\b\b\b\b\b\b\b\b\b\n",
      "Epoch 38/50\n",
      "6/6 [==============================] - 0s 1ms/step - loss: 3.0814\b\b\b\b\b\b\b\b\b\b\b\b\b\b\b\b\b\b\b\b\b\b\b\b\b\b\b\b\b\b\b\b\b\b\b\b\b\b\b\b\b\b\b\b\b\b\b\b\b\b\b\b\b\b\b\b\b\n",
      "Epoch 39/50\n",
      "6/6 [==============================] - 0s 1ms/step - loss: 3.0151\b\b\b\b\b\b\b\b\b\b\b\b\b\b\b\b\b\b\b\b\b\b\b\b\b\b\b\b\b\b\b\b\b\b\b\b\b\b\b\b\b\b\b\b\b\b\b\b\b\b\b\b\b\b\b\b\b\n",
      "Epoch 40/50\n",
      "6/6 [==============================] - 0s 2ms/step - loss: 2.9425\b\b\b\b\b\b\b\b\b\b\b\b\b\b\b\b\b\b\b\b\b\b\b\b\b\b\b\b\b\b\b\b\b\b\b\b\b\b\b\b\b\b\b\b\b\b\b\b\b\b\b\b\b\b\b\b\b\n",
      "Epoch 41/50\n",
      "6/6 [==============================] - 0s 2ms/step - loss: 2.8726\b\b\b\b\b\b\b\b\b\b\b\b\b\b\b\b\b\b\b\b\b\b\b\b\b\b\b\b\b\b\b\b\b\b\b\b\b\b\b\b\b\b\b\b\b\b\b\b\b\b\b\b\b\b\b\b\b\n",
      "Epoch 42/50\n",
      "6/6 [==============================] - 0s 1ms/step - loss: 2.8386\b\b\b\b\b\b\b\b\b\b\b\b\b\b\b\b\b\b\b\b\b\b\b\b\b\b\b\b\b\b\b\b\b\b\b\b\b\b\b\b\b\b\b\b\b\b\b\b\b\b\b\b\b\b\b\b\b\n",
      "Epoch 43/50\n",
      "6/6 [==============================] - 0s 1ms/step - loss: 2.7854\b\b\b\b\b\b\b\b\b\b\b\b\b\b\b\b\b\b\b\b\b\b\b\b\b\b\b\b\b\b\b\b\b\b\b\b\b\b\b\b\b\b\b\b\b\b\b\b\b\b\b\b\b\b\b\b\b\n",
      "Epoch 44/50\n",
      "6/6 [==============================] - 0s 1ms/step - loss: 2.7673\b\b\b\b\b\b\b\b\b\b\b\b\b\b\b\b\b\b\b\b\b\b\b\b\b\b\b\b\b\b\b\b\b\b\b\b\b\b\b\b\b\b\b\b\b\b\b\b\b\b\b\b\b\b\b\b\b\n",
      "Epoch 45/50\n",
      "6/6 [==============================] - 0s 1ms/step - loss: 2.7469\b\b\b\b\b\b\b\b\b\b\b\b\b\b\b\b\b\b\b\b\b\b\b\b\b\b\b\b\b\b\b\b\b\b\b\b\b\b\b\b\b\b\b\b\b\b\b\b\b\b\b\b\b\b\b\b\b\n",
      "Epoch 46/50\n",
      "6/6 [==============================] - 0s 1ms/step - loss: 2.6962\b\b\b\b\b\b\b\b\b\b\b\b\b\b\b\b\b\b\b\b\b\b\b\b\b\b\b\b\b\b\b\b\b\b\b\b\b\b\b\b\b\b\b\b\b\b\b\b\b\b\b\b\b\b\b\b\b\n",
      "Epoch 47/50\n",
      "6/6 [==============================] - 0s 1ms/step - loss: 2.6718\b\b\b\b\b\b\b\b\b\b\b\b\b\b\b\b\b\b\b\b\b\b\b\b\b\b\b\b\b\b\b\b\b\b\b\b\b\b\b\b\b\b\b\b\b\b\b\b\b\b\b\b\b\b\b\b\b\n",
      "Epoch 48/50\n",
      "6/6 [==============================] - 0s 1ms/step - loss: 2.6442\b\b\b\b\b\b\b\b\b\b\b\b\b\b\b\b\b\b\b\b\b\b\b\b\b\b\b\b\b\b\b\b\b\b\b\b\b\b\b\b\b\b\b\b\b\b\b\b\b\b\b\b\b\b\b\b\b\n",
      "Epoch 49/50\n",
      "6/6 [==============================] - 0s 2ms/step - loss: 2.6061\b\b\b\b\b\b\b\b\b\b\b\b\b\b\b\b\b\b\b\b\b\b\b\b\b\b\b\b\b\b\b\b\b\b\b\b\b\b\b\b\b\b\b\b\b\b\b\b\b\b\b\b\b\b\b\b\b\n",
      "Epoch 50/50\n",
      "6/6 [==============================] - 0s 1ms/step - loss: 2.5791\b\b\b\b\b\b\b\b\b\b\b\b\b\b\b\b\b\b\b\b\b\b\b\b\b\b\b\b\b\b\b\b\b\b\b\b\b\b\b\b\b\b\b\b\b\b\b\b\b\b\b\b\b\b\b\b\b\n"
     ]
    }
   ],
   "source": [
    "h = model.fit(x, y, epochs=50, callbacks=[scheduler])"
   ],
   "metadata": {
    "collapsed": false,
    "pycharm": {
     "name": "#%%\n"
    }
   }
  },
  {
   "cell_type": "code",
   "execution_count": 57,
   "outputs": [
    {
     "data": {
      "text/plain": "[<matplotlib.lines.Line2D at 0x2361038e8e0>]"
     },
     "execution_count": 57,
     "metadata": {},
     "output_type": "execute_result"
    },
    {
     "data": {
      "text/plain": "<Figure size 432x288 with 1 Axes>",
      "image/png": "[encoded data removed]"
     },
     "metadata": {
      "needs_background": "light"
     },
     "output_type": "display_data"
    }
   ],
   "source": [
    "plt.plot(h.history[\"loss\"])"
   ],
   "metadata": {
    "collapsed": false,
    "pycharm": {
     "name": "#%%\n"
    }
   }
  },
  {
   "cell_type": "code",
   "execution_count": 58,
   "outputs": [
    {
     "data": {
      "text/plain": "[<matplotlib.lines.Line2D at 0x236104a3a30>]"
     },
     "execution_count": 58,
     "metadata": {},
     "output_type": "execute_result"
    },
    {
     "data": {
      "text/plain": "<Figure size 432x288 with 1 Axes>",
      "image/png": "[encoded data removed]"
     },
     "metadata": {
      "needs_background": "light"
     },
     "output_type": "display_data"
    }
   ],
   "source": [
    "plt.plot(h.history[\"lr\"])"
   ],
   "metadata": {
    "collapsed": false,
    "pycharm": {
     "name": "#%%\n"
    }
   }
  },
  {
   "cell_type": "code",
   "execution_count": null,
   "outputs": [],
   "source": [],
   "metadata": {
    "collapsed": false,
    "pycharm": {
     "name": "#%%\n"
    }
   }
  }
 ],
 "metadata": {
  "kernelspec": {
   "name": "pycharm-c0cb2d0b",
   "language": "python",
   "display_name": "PyCharm (Course1)"
  },
  "language_info": {
   "codemirror_mode": {
    "name": "ipython",
    "version": 2
   },
   "file_extension": ".py",
   "mimetype": "text/x-python",
   "name": "python",
   "nbconvert_exporter": "python",
   "pygments_lexer": "ipython2",
   "version": "2.7.6"
  }
 },
 "nbformat": 4,
 "nbformat_minor": 0
}